{
 "cells": [
  {
   "cell_type": "code",
   "execution_count": 1,
   "metadata": {},
   "outputs": [],
   "source": [
    "# Dependencies and Setup\n",
    "import numpy as np\n",
    "import pandas as pd\n",
    "import matplotlib.pyplot as plt\n",
    "\n",
    "# File to Load (Remember to change these)\n",
    "city_data = \"city_data.csv\"\n",
    "ride_data = \"ride_data.csv\"\n"
   ]
  },
  {
   "cell_type": "code",
   "execution_count": 1,
   "metadata": {},
   "outputs": [
    {
     "ename": "NameError",
     "evalue": "name 'pd' is not defined",
     "output_type": "error",
     "traceback": [
      "\u001b[0;31m---------------------------------------------------------------------------\u001b[0m",
      "\u001b[0;31mNameError\u001b[0m                                 Traceback (most recent call last)",
      "\u001b[0;32m<ipython-input-1-265fea6b6f65>\u001b[0m in \u001b[0;36m<module>\u001b[0;34m()\u001b[0m\n\u001b[1;32m      1\u001b[0m \u001b[0;31m# Read the City and Ride Data\u001b[0m\u001b[0;34m\u001b[0m\u001b[0;34m\u001b[0m\u001b[0m\n\u001b[0;32m----> 2\u001b[0;31m \u001b[0mcity_data\u001b[0m \u001b[0;34m=\u001b[0m \u001b[0mpd\u001b[0m\u001b[0;34m.\u001b[0m\u001b[0mread_csv\u001b[0m\u001b[0;34m(\u001b[0m\u001b[0mcity_data\u001b[0m\u001b[0;34m)\u001b[0m\u001b[0;34m\u001b[0m\u001b[0m\n\u001b[0m\u001b[1;32m      3\u001b[0m \u001b[0;31m# Display the data table for preview\u001b[0m\u001b[0;34m\u001b[0m\u001b[0;34m\u001b[0m\u001b[0m\n\u001b[1;32m      4\u001b[0m \u001b[0mcity_data\u001b[0m\u001b[0;34m.\u001b[0m\u001b[0mhead\u001b[0m\u001b[0;34m(\u001b[0m\u001b[0;34m)\u001b[0m\u001b[0;34m\u001b[0m\u001b[0m\n",
      "\u001b[0;31mNameError\u001b[0m: name 'pd' is not defined"
     ]
    }
   ],
   "source": [
    "# Read the City and Ride Data\n",
    "city_data = pd.read_csv(city_data)\n",
    "# Display the data table for preview\n",
    "city_data.head()\n"
   ]
  },
  {
   "cell_type": "code",
   "execution_count": 3,
   "metadata": {},
   "outputs": [
    {
     "data": {
      "text/html": [
       "<div>\n",
       "<style scoped>\n",
       "    .dataframe tbody tr th:only-of-type {\n",
       "        vertical-align: middle;\n",
       "    }\n",
       "\n",
       "    .dataframe tbody tr th {\n",
       "        vertical-align: top;\n",
       "    }\n",
       "\n",
       "    .dataframe thead th {\n",
       "        text-align: right;\n",
       "    }\n",
       "</style>\n",
       "<table border=\"1\" class=\"dataframe\">\n",
       "  <thead>\n",
       "    <tr style=\"text-align: right;\">\n",
       "      <th></th>\n",
       "      <th>city</th>\n",
       "      <th>date</th>\n",
       "      <th>fare</th>\n",
       "      <th>ride_id</th>\n",
       "    </tr>\n",
       "  </thead>\n",
       "  <tbody>\n",
       "    <tr>\n",
       "      <th>0</th>\n",
       "      <td>Lake Jonathanshire</td>\n",
       "      <td>2018-01-14 10:14:22</td>\n",
       "      <td>13.83</td>\n",
       "      <td>5739410935873</td>\n",
       "    </tr>\n",
       "    <tr>\n",
       "      <th>1</th>\n",
       "      <td>South Michelleport</td>\n",
       "      <td>2018-03-04 18:24:09</td>\n",
       "      <td>30.24</td>\n",
       "      <td>2343912425577</td>\n",
       "    </tr>\n",
       "    <tr>\n",
       "      <th>2</th>\n",
       "      <td>Port Samanthamouth</td>\n",
       "      <td>2018-02-24 04:29:00</td>\n",
       "      <td>33.44</td>\n",
       "      <td>2005065760003</td>\n",
       "    </tr>\n",
       "    <tr>\n",
       "      <th>3</th>\n",
       "      <td>Rodneyfort</td>\n",
       "      <td>2018-02-10 23:22:03</td>\n",
       "      <td>23.44</td>\n",
       "      <td>5149245426178</td>\n",
       "    </tr>\n",
       "    <tr>\n",
       "      <th>4</th>\n",
       "      <td>South Jack</td>\n",
       "      <td>2018-03-06 04:28:35</td>\n",
       "      <td>34.58</td>\n",
       "      <td>3908451377344</td>\n",
       "    </tr>\n",
       "  </tbody>\n",
       "</table>\n",
       "</div>"
      ],
      "text/plain": [
       "                 city                 date   fare        ride_id\n",
       "0  Lake Jonathanshire  2018-01-14 10:14:22  13.83  5739410935873\n",
       "1  South Michelleport  2018-03-04 18:24:09  30.24  2343912425577\n",
       "2  Port Samanthamouth  2018-02-24 04:29:00  33.44  2005065760003\n",
       "3          Rodneyfort  2018-02-10 23:22:03  23.44  5149245426178\n",
       "4          South Jack  2018-03-06 04:28:35  34.58  3908451377344"
      ]
     },
     "execution_count": 3,
     "metadata": {},
     "output_type": "execute_result"
    }
   ],
   "source": [
    "# Read the City and Ride Data\n",
    "ride_data = pd.read_csv(ride_data)\n",
    "# Display the data table for preview\n",
    "ride_data.head()"
   ]
  },
  {
   "cell_type": "code",
   "execution_count": 4,
   "metadata": {},
   "outputs": [
    {
     "data": {
      "text/html": [
       "<div>\n",
       "<style scoped>\n",
       "    .dataframe tbody tr th:only-of-type {\n",
       "        vertical-align: middle;\n",
       "    }\n",
       "\n",
       "    .dataframe tbody tr th {\n",
       "        vertical-align: top;\n",
       "    }\n",
       "\n",
       "    .dataframe thead th {\n",
       "        text-align: right;\n",
       "    }\n",
       "</style>\n",
       "<table border=\"1\" class=\"dataframe\">\n",
       "  <thead>\n",
       "    <tr style=\"text-align: right;\">\n",
       "      <th></th>\n",
       "      <th>city</th>\n",
       "      <th>driver_count</th>\n",
       "      <th>type</th>\n",
       "      <th>date</th>\n",
       "      <th>fare</th>\n",
       "      <th>ride_id</th>\n",
       "    </tr>\n",
       "  </thead>\n",
       "  <tbody>\n",
       "    <tr>\n",
       "      <th>0</th>\n",
       "      <td>Richardfort</td>\n",
       "      <td>38</td>\n",
       "      <td>Urban</td>\n",
       "      <td>2018-02-24 08:40:38</td>\n",
       "      <td>13.93</td>\n",
       "      <td>5628545007794</td>\n",
       "    </tr>\n",
       "    <tr>\n",
       "      <th>1</th>\n",
       "      <td>Richardfort</td>\n",
       "      <td>38</td>\n",
       "      <td>Urban</td>\n",
       "      <td>2018-02-13 12:46:07</td>\n",
       "      <td>14.00</td>\n",
       "      <td>910050116494</td>\n",
       "    </tr>\n",
       "    <tr>\n",
       "      <th>2</th>\n",
       "      <td>Richardfort</td>\n",
       "      <td>38</td>\n",
       "      <td>Urban</td>\n",
       "      <td>2018-02-16 13:52:19</td>\n",
       "      <td>17.92</td>\n",
       "      <td>820639054416</td>\n",
       "    </tr>\n",
       "    <tr>\n",
       "      <th>3</th>\n",
       "      <td>Richardfort</td>\n",
       "      <td>38</td>\n",
       "      <td>Urban</td>\n",
       "      <td>2018-02-01 20:18:28</td>\n",
       "      <td>10.26</td>\n",
       "      <td>9554935945413</td>\n",
       "    </tr>\n",
       "    <tr>\n",
       "      <th>4</th>\n",
       "      <td>Richardfort</td>\n",
       "      <td>38</td>\n",
       "      <td>Urban</td>\n",
       "      <td>2018-04-17 02:26:37</td>\n",
       "      <td>23.00</td>\n",
       "      <td>720020655850</td>\n",
       "    </tr>\n",
       "  </tbody>\n",
       "</table>\n",
       "</div>"
      ],
      "text/plain": [
       "          city  driver_count   type                 date   fare        ride_id\n",
       "0  Richardfort            38  Urban  2018-02-24 08:40:38  13.93  5628545007794\n",
       "1  Richardfort            38  Urban  2018-02-13 12:46:07  14.00   910050116494\n",
       "2  Richardfort            38  Urban  2018-02-16 13:52:19  17.92   820639054416\n",
       "3  Richardfort            38  Urban  2018-02-01 20:18:28  10.26  9554935945413\n",
       "4  Richardfort            38  Urban  2018-04-17 02:26:37  23.00   720020655850"
      ]
     },
     "execution_count": 4,
     "metadata": {},
     "output_type": "execute_result"
    }
   ],
   "source": [
    "# Combine the data into a single dataset\n",
    "full_data = pd.merge(city_data, ride_data, how='outer')\n",
    "full_data_df = full_data.drop_duplicates('ride_id')\n",
    "\n",
    "# Display the data table for preview\n",
    "full_data_df.head()"
   ]
  },
  {
   "cell_type": "code",
   "execution_count": 5,
   "metadata": {},
   "outputs": [
    {
     "data": {
      "text/plain": [
       "city                  type    \n",
       "Amandaburgh           Urban       18\n",
       "Barajasview           Urban       22\n",
       "Barronchester         Suburban    16\n",
       "Bethanyland           Suburban    18\n",
       "Bradshawfurt          Rural       10\n",
       "Brandonfort           Suburban    19\n",
       "Carriemouth           Urban       27\n",
       "Christopherfurt       Urban       27\n",
       "Colemanland           Suburban    22\n",
       "Davidfurt             Suburban    17\n",
       "Deanville             Urban       19\n",
       "East Aaronbury        Suburban     9\n",
       "East Danielview       Suburban    17\n",
       "East Kaylahaven       Urban       29\n",
       "East Kentstad         Suburban    13\n",
       "East Marymouth        Suburban    27\n",
       "Erikaland             Urban       12\n",
       "Garzaport             Rural        3\n",
       "Grahamburgh           Urban       25\n",
       "Grayville             Suburban    15\n",
       "Harringtonfort        Rural        6\n",
       "Huntermouth           Urban       24\n",
       "Hurleymouth           Urban       28\n",
       "Jerryton              Urban       25\n",
       "Jessicaport           Rural        6\n",
       "Johnton               Urban       21\n",
       "Joneschester          Urban       25\n",
       "Josephside            Suburban    27\n",
       "Justinberg            Urban       30\n",
       "Karenberg             Urban       17\n",
       "                                  ..\n",
       "South Evanton         Urban       31\n",
       "South Jack            Urban       19\n",
       "South Jennifer        Rural        7\n",
       "South Karenland       Urban       38\n",
       "South Latoya          Urban       19\n",
       "South Marychester     Rural        8\n",
       "South Michelleport    Urban       31\n",
       "South Phillip         Urban       31\n",
       "South Saramouth       Rural        4\n",
       "South Teresa          Suburban    22\n",
       "Taylorhaven           Rural        6\n",
       "Valentineton          Urban       22\n",
       "Veronicaberg          Suburban    17\n",
       "Victoriaport          Suburban    14\n",
       "West Angela           Urban       39\n",
       "West Anthony          Urban       30\n",
       "West Christopherberg  Urban       26\n",
       "West Ericstad         Urban       18\n",
       "West Gabriel          Urban       23\n",
       "West Hannah           Suburban    21\n",
       "West Heather          Rural        9\n",
       "West Heidi            Urban       28\n",
       "West Josephberg       Urban       26\n",
       "West Kimmouth         Suburban    20\n",
       "West Patrickchester   Urban       16\n",
       "West Robert           Urban       31\n",
       "West Samuelburgh      Urban       25\n",
       "Williamsonville       Suburban    14\n",
       "Williamsstad          Urban       23\n",
       "Williamsview          Urban       20\n",
       "Name: type, Length: 120, dtype: int64"
      ]
     },
     "execution_count": 5,
     "metadata": {},
     "output_type": "execute_result"
    }
   ],
   "source": [
    "urban_df = full_data_df.loc[full_data_df[\"type\"] == \"Urban\", :]\n",
    "suburban_df = full_data_df.loc[full_data_df[\"type\"] == \"Suburban\", :]\n",
    "rural_df = full_data_df.loc[full_data_df[\"type\"] == \"Rural\", :]\n",
    "\n",
    "#Groups our three new datasets by city\n",
    "bycity_urban_df = urban_df.groupby(['city'])\n",
    "bycity_suburban_df = suburban_df.groupby(['city'])\n",
    "bycity_rural_df = rural_df.groupby(['city'])\n",
    "\n",
    "#CITYtype\n",
    "city_type = full_data_df.groupby(\"city\")[\"type\"]\n",
    "city_type.value_counts()"
   ]
  },
  {
   "cell_type": "code",
   "execution_count": 6,
   "metadata": {},
   "outputs": [
    {
     "data": {
      "text/plain": [
       "city\n",
       "Amandaburgh      24.641667\n",
       "Barajasview      25.332273\n",
       "Barronchester    36.422500\n",
       "Bethanyland      32.956111\n",
       "Bradshawfurt     40.064000\n",
       "Name: fare, dtype: float64"
      ]
     },
     "execution_count": 6,
     "metadata": {},
     "output_type": "execute_result"
    }
   ],
   "source": [
    "averagecity_fare = full_data_df.groupby(\"city\")[\"fare\"].mean()\n",
    "averagecity_fare.head()"
   ]
  },
  {
   "cell_type": "code",
   "execution_count": 7,
   "metadata": {},
   "outputs": [
    {
     "data": {
      "text/plain": [
       "city\n",
       "Amandaburgh      18\n",
       "Barajasview      22\n",
       "Barronchester    16\n",
       "Bethanyland      18\n",
       "Bradshawfurt     10\n",
       "Name: ride_id, dtype: int64"
      ]
     },
     "execution_count": 7,
     "metadata": {},
     "output_type": "execute_result"
    }
   ],
   "source": [
    "tcity_rides = full_data_df.groupby(\"city\")[\"ride_id\"].count()\n",
    "tcity_rides.head()"
   ]
  },
  {
   "cell_type": "code",
   "execution_count": 8,
   "metadata": {},
   "outputs": [
    {
     "data": {
      "text/plain": [
       "city\n",
       "Amandaburgh      12\n",
       "Barajasview      26\n",
       "Barronchester    11\n",
       "Bethanyland      22\n",
       "Bradshawfurt      7\n",
       "Name: driver_count, dtype: int64"
      ]
     },
     "execution_count": 8,
     "metadata": {},
     "output_type": "execute_result"
    }
   ],
   "source": [
    "tdrivers = full_data_df.groupby(\"city\")[\"driver_count\"].mean()\n",
    "tdrivers.head()"
   ]
  },
  {
   "cell_type": "code",
   "execution_count": 14,
   "metadata": {},
   "outputs": [],
   "source": [
    "urbanCities=full_data_df[full_data_df[\"type\"]==\"Urban\"]\n",
    "suburbanCities=full_data_df[full_data_df[\"type\"]==\"Suburban\"]\n",
    "ruralCities=full_data_df[full_data_df[\"type\"]==\"Rural\"]"
   ]
  },
  {
   "cell_type": "code",
   "execution_count": 15,
   "metadata": {},
   "outputs": [],
   "source": [
    "\n",
    "#use previous variables for averages and totals\n",
    "\n",
    "urbanRideCount=urban_df.groupby([\"city\"]).count()[\"ride_id\"]\n",
    "urbanFareAvg=urban_df.groupby([\"city\"]).mean()[\"fare\"]\n",
    "urbanDriverCount=urban_df.groupby([\"city\"]).mean()[\"driver_count\"]\n",
    "\n",
    "suburbanRideCount=suburban_df.groupby([\"city\"]).count()[\"ride_id\"]\n",
    "suburbanFareAvg=suburban_df.groupby([\"city\"]).mean()[\"fare\"]\n",
    "suburbanDriverCount=suburban_df.groupby([\"city\"]).mean()[\"driver_count\"]\n",
    "\n",
    "ruralRideCount=rural_df.groupby([\"city\"]).count()[\"ride_id\"]\n",
    "ruralFareAvg=rural_df.groupby([\"city\"]).mean()[\"fare\"]\n",
    "ruralDriverCount=rural_df.groupby([\"city\"]).mean()[\"driver_count\"]"
   ]
  },
  {
   "cell_type": "code",
   "execution_count": 52,
   "metadata": {},
   "outputs": [
    {
     "data": {
      "image/png": "[encoded data removed]",
      "text/plain": [
       "<Figure size 432x288 with 1 Axes>"
      ]
     },
     "metadata": {
      "needs_background": "light"
     },
     "output_type": "display_data"
    }
   ],
   "source": [
    "plt.scatter(urbanRideCount, \n",
    "            urbanFareAvg, \n",
    "            s=10*urbanDriverCount,\n",
    "            edgecolor=\"black\", linewidths=1, marker=\"o\",\n",
    "            alpha=0.8, label=\"Urban\")\n",
    "\n",
    "plt.scatter(suburbanRideCount, \n",
    "            suburbanFareAvg, \n",
    "            s=10*urbanDriverCount,\n",
    "            edgecolor=\"black\", linewidths=1, marker=\"o\",\n",
    "            alpha=0.8, label=\"Suburban\")\n",
    "\n",
    "plt.scatter(ruralRideCount, \n",
    "            ruralFareAvg, \n",
    "            s=10*urbanDriverCount,\n",
    "            edgecolor=\"black\", linewidths=1, marker=\"o\",\n",
    "            alpha=0.8, label=\"Rural\")\n",
    "\n",
    "plt.title(\"Pyber Ride Sharing Data\", fontsize= 18,fontweight = 800)\n",
    "plt.ylabel(\"Average Fare\",fontsize= 12, fontweight = 800)\n",
    "plt.xlabel(\"Total Number of Rides\",fontsize= 12,fontweight = 800)\n",
    "plt.xlim((0,40))\n",
    "plt.grid(True)\n",
    "\n",
    "\n",
    "lgnd = plt.legend(fontsize=\"medium\", mode=\"Expanded\", \n",
    "                  numpoints=1, scatterpoints=1, \n",
    "                  loc=\"best\", title=\"City Types\", \n",
    "                  labelspacing=0.5)\n",
    "lgnd.legendHandles[0]._sizes = [30]\n",
    "lgnd.legendHandles[1]._sizes = [30]\n",
    "lgnd.legendHandles[2]._sizes = [30]\n",
    "plt.show()"
   ]
  },
  {
   "cell_type": "code",
   "execution_count": 20,
   "metadata": {},
   "outputs": [
    {
     "data": {
      "text/plain": [
       "type\n",
       "Rural        4327.93\n",
       "Suburban    19356.33\n",
       "Urban       39854.38\n",
       "Name: fare, dtype: float64"
      ]
     },
     "execution_count": 20,
     "metadata": {},
     "output_type": "execute_result"
    }
   ],
   "source": [
    "# Calculate CityType Percents\n",
    "city_fare_pie = full_data_df.groupby([\"type\"])[\"fare\"].sum()\n",
    "city_fare_pie\n"
   ]
  },
  {
   "cell_type": "code",
   "execution_count": 21,
   "metadata": {},
   "outputs": [
    {
     "data": {
      "text/plain": [
       "Index(['Rural', 'Suburban', 'Urban'], dtype='object', name='type')"
      ]
     },
     "execution_count": 21,
     "metadata": {},
     "output_type": "execute_result"
    }
   ],
   "source": [
    "city_fare_pie.index"
   ]
  },
  {
   "cell_type": "code",
   "execution_count": 39,
   "metadata": {},
   "outputs": [
    {
     "data": {
      "image/png": "[encoded data removed]",
      "text/plain": [
       "<Figure size 432x288 with 1 Axes>"
      ]
     },
     "metadata": {},
     "output_type": "display_data"
    }
   ],
   "source": [
    "colors = [\"gold\", \"lightskyblue\", \"lightcoral\"]\n",
    "\n",
    "#Only explode the third section of the pie chart.\n",
    "\n",
    "explode = (0,0, 0.1)\n",
    "\n",
    "#Create the pie chart.\n",
    "plt.pie(city_fare_pie, labels = city_fare_pie.index, autopct = \"%1.1f%%\", colors = colors, explode = explode, shadow = True, startangle = 270)\n",
    "\n",
    "#Tell Matplotlib that we want a pie chart with equal axes.\n",
    "plt.axis(\"equal\")\n",
    "\n",
    "#Add the legend.\n",
    "plt.legend(loc = \"upper right\")\n",
    "plt.title(\"Fare by City\", fontsize= 18,fontweight = 800)\n",
    "#Show the chart.\n",
    "plt.show()"
   ]
  },
  {
   "cell_type": "code",
   "execution_count": 23,
   "metadata": {},
   "outputs": [
    {
     "data": {
      "text/plain": [
       "type\n",
       "Rural        125\n",
       "Suburban     625\n",
       "Urban       1625\n",
       "Name: ride_id, dtype: int64"
      ]
     },
     "execution_count": 23,
     "metadata": {},
     "output_type": "execute_result"
    }
   ],
   "source": [
    "##Total Rides by City Type Pie chart\n",
    "city_rides_pie =full_data_df.groupby([\"type\"])[\"ride_id\"].count()\n",
    "city_rides_pie\n"
   ]
  },
  {
   "cell_type": "code",
   "execution_count": 24,
   "metadata": {},
   "outputs": [
    {
     "data": {
      "text/plain": [
       "Index(['Rural', 'Suburban', 'Urban'], dtype='object', name='type')"
      ]
     },
     "execution_count": 24,
     "metadata": {},
     "output_type": "execute_result"
    }
   ],
   "source": [
    "city_rides_pie.index\n"
   ]
  },
  {
   "cell_type": "code",
   "execution_count": 2,
   "metadata": {},
   "outputs": [
    {
     "ename": "NameError",
     "evalue": "name 'plt' is not defined",
     "output_type": "error",
     "traceback": [
      "\u001b[0;31m---------------------------------------------------------------------------\u001b[0m",
      "\u001b[0;31mNameError\u001b[0m                                 Traceback (most recent call last)",
      "\u001b[0;32m<ipython-input-2-90a8078d1578>\u001b[0m in \u001b[0;36m<module>\u001b[0;34m()\u001b[0m\n\u001b[1;32m      6\u001b[0m \u001b[0;34m\u001b[0m\u001b[0m\n\u001b[1;32m      7\u001b[0m \u001b[0;31m#Create the pie chart.\u001b[0m\u001b[0;34m\u001b[0m\u001b[0;34m\u001b[0m\u001b[0m\n\u001b[0;32m----> 8\u001b[0;31m \u001b[0mplt\u001b[0m\u001b[0;34m.\u001b[0m\u001b[0mpie\u001b[0m\u001b[0;34m(\u001b[0m\u001b[0mcity_rides_pie\u001b[0m\u001b[0;34m,\u001b[0m \u001b[0mlabels\u001b[0m \u001b[0;34m=\u001b[0m \u001b[0mcity_rides_pie\u001b[0m\u001b[0;34m.\u001b[0m\u001b[0mindex\u001b[0m\u001b[0;34m,\u001b[0m \u001b[0mautopct\u001b[0m \u001b[0;34m=\u001b[0m \u001b[0;34m\"%1.1f%%\"\u001b[0m\u001b[0;34m,\u001b[0m \u001b[0mcolors\u001b[0m \u001b[0;34m=\u001b[0m \u001b[0mcolors\u001b[0m\u001b[0;34m,\u001b[0m \u001b[0mexplode\u001b[0m \u001b[0;34m=\u001b[0m \u001b[0mexplode\u001b[0m\u001b[0;34m,\u001b[0m \u001b[0mshadow\u001b[0m \u001b[0;34m=\u001b[0m \u001b[0;32mTrue\u001b[0m\u001b[0;34m,\u001b[0m \u001b[0mstartangle\u001b[0m \u001b[0;34m=\u001b[0m \u001b[0;36m270\u001b[0m\u001b[0;34m)\u001b[0m\u001b[0;34m\u001b[0m\u001b[0m\n\u001b[0m\u001b[1;32m      9\u001b[0m \u001b[0;34m\u001b[0m\u001b[0m\n\u001b[1;32m     10\u001b[0m \u001b[0;31m#Tell Matplotlib that we want a pie chart with equal axes.\u001b[0m\u001b[0;34m\u001b[0m\u001b[0;34m\u001b[0m\u001b[0m\n",
      "\u001b[0;31mNameError\u001b[0m: name 'plt' is not defined"
     ]
    }
   ],
   "source": [
    "colors = [\"gold\", \"blue\", \"red\"]\n",
    "\n",
    "#Only explode the third section of the pie chart.\n",
    "\n",
    "explode = (0,0, 0.1)\n",
    "\n",
    "#Create the pie chart.\n",
    "plt.pie(city_rides_pie, labels = city_rides_pie.index, autopct = \"%1.1f%%\", colors = colors, explode = explode, shadow = True, startangle = 270)\n",
    "\n",
    "#Tell Matplotlib that we want a pie chart with equal axes.\n",
    "plt.axis(\"equal\")\n",
    "\n",
    "#Add the legend.\n",
    "plt.legend(loc = \"upper right\")\n",
    "plt.title(\"Rides by City\", fontsize= 18,fontweight = 800)\n",
    "#Show the chart.\n",
    "plt.show()"
   ]
  },
  {
   "cell_type": "code",
   "execution_count": 26,
   "metadata": {},
   "outputs": [
    {
     "data": {
      "text/plain": [
       "type\n",
       "Rural         78\n",
       "Suburban     490\n",
       "Urban       2405\n",
       "Name: driver_count, dtype: int64"
      ]
     },
     "execution_count": 26,
     "metadata": {},
     "output_type": "execute_result"
    }
   ],
   "source": [
    "#driver count or Ride id?\n",
    "city_driver_pie = city_data.groupby([\"type\"])[\"driver_count\"].sum()    \n",
    "city_driver_pie"
   ]
  },
  {
   "cell_type": "code",
   "execution_count": 27,
   "metadata": {},
   "outputs": [
    {
     "data": {
      "text/plain": [
       "Index(['Rural', 'Suburban', 'Urban'], dtype='object', name='type')"
      ]
     },
     "execution_count": 27,
     "metadata": {},
     "output_type": "execute_result"
    }
   ],
   "source": [
    "city_driver_pie.index"
   ]
  },
  {
   "cell_type": "code",
   "execution_count": 37,
   "metadata": {},
   "outputs": [
    {
     "data": {
      "image/png": "[encoded data removed]",
      "text/plain": [
       "<Figure size 432x288 with 1 Axes>"
      ]
     },
     "metadata": {},
     "output_type": "display_data"
    }
   ],
   "source": [
    "colors = [\"gold\", \"lightskyblue\", \"lightcoral\"]\n",
    "\n",
    "#Only explode the third section of the pie chart.\n",
    "\n",
    "explode = (0,0, 0.1)\n",
    "\n",
    "#Create the pie chart.\n",
    "plt.pie(city_driver_pie, labels = city_driver_pie.index, autopct = \"%1.1f%%\", colors = colors, explode = explode, shadow = True, startangle = 270)\n",
    "\n",
    "#Tell Matplotlib that we want a pie chart with equal axes.\n",
    "plt.axis(\"equal\")\n",
    "\n",
    "#Add the legend.\n",
    "plt.legend(loc = \"upper right\")\n",
    "plt.title(\"Driver by City\", fontsize =18, fontweight = 800)\n",
    "#Show the chart.\n",
    "plt.show()"
   ]
  }
 ],
 "metadata": {
  "kernelspec": {
   "display_name": "Python 3",
   "language": "python",
   "name": "python3"
  },
  "language_info": {
   "codemirror_mode": {
    "name": "ipython",
    "version": 3
   },
   "file_extension": ".py",
   "mimetype": "text/x-python",
   "name": "python",
   "nbconvert_exporter": "python",
   "pygments_lexer": "ipython3",
   "version": "3.7.0"
  }
 },
 "nbformat": 4,
 "nbformat_minor": 2
}
